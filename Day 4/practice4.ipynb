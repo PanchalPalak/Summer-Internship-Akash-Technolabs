{
 "cells": [
  {
   "cell_type": "markdown",
   "id": "261105e1",
   "metadata": {},
   "source": [
    "## 13.squre of num if less than 10."
   ]
  },
  {
   "cell_type": "code",
   "execution_count": 4,
   "id": "dca770d1",
   "metadata": {},
   "outputs": [
    {
     "name": "stdout",
     "output_type": "stream",
     "text": [
      "enter number:10\n",
      "squre of the number: 100\n"
     ]
    }
   ],
   "source": [
    "n=int(input('enter number:'))\n",
    "if(n>10):\n",
    "    print('number is bigger than 10')\n",
    "else:\n",
    "    print('squre of the number:',n*n)"
   ]
  },
  {
   "cell_type": "markdown",
   "id": "dbe971b8",
   "metadata": {},
   "source": [
    "## 14. zero ,positive or negative:"
   ]
  },
  {
   "cell_type": "code",
   "execution_count": 5,
   "id": "63129c0a",
   "metadata": {},
   "outputs": [
    {
     "name": "stdout",
     "output_type": "stream",
     "text": [
      "enter a number:14\n",
      "number is positive.\n"
     ]
    }
   ],
   "source": [
    "n=int(input('enter a number:'))\n",
    "if(n==0):\n",
    "    print('number is zero.')\n",
    "elif(n>0):\n",
    "    print('number is positive.')\n",
    "else:\n",
    "    print('number is negative.')"
   ]
  },
  {
   "cell_type": "markdown",
   "id": "5c1b47e6",
   "metadata": {},
   "source": [
    "## 15. swaping without third variable:"
   ]
  },
  {
   "cell_type": "code",
   "execution_count": 6,
   "id": "879a79f8",
   "metadata": {},
   "outputs": [
    {
     "name": "stdout",
     "output_type": "stream",
     "text": [
      "enter num a:25\n",
      "enter num b:10\n",
      "10\n",
      "25\n"
     ]
    }
   ],
   "source": [
    "a=int(input('enter num a:'))\n",
    "b=int(input('enter num b:'))\n",
    "a,b=b,a\n",
    "print(a)\n",
    "print(b)"
   ]
  },
  {
   "cell_type": "markdown",
   "id": "5abcc0cf",
   "metadata": {},
   "source": [
    "## 16. print series"
   ]
  },
  {
   "cell_type": "code",
   "execution_count": 17,
   "id": "a8c8908d",
   "metadata": {},
   "outputs": [
    {
     "name": "stdout",
     "output_type": "stream",
     "text": [
      "enter staring num:0\n",
      "enter ending num:30\n",
      "0\n",
      "3\n",
      "6\n",
      "9\n",
      "12\n",
      "15\n",
      "18\n",
      "21\n",
      "24\n",
      "27\n"
     ]
    }
   ],
   "source": [
    "st=int(input('enter staring num:'))\n",
    "ed=int(input('enter ending num:'))\n",
    "if(st<ed):\n",
    "    for i in range(st,ed,3):\n",
    "        print(i)\n",
    "else:\n",
    "    for i in range(st,ed,-3):\n",
    "        print(i)\n",
    "        "
   ]
  },
  {
   "cell_type": "code",
   "execution_count": null,
   "id": "4db3f81a",
   "metadata": {},
   "outputs": [],
   "source": []
  }
 ],
 "metadata": {
  "kernelspec": {
   "display_name": "Python 3",
   "language": "python",
   "name": "python3"
  },
  "language_info": {
   "codemirror_mode": {
    "name": "ipython",
    "version": 3
   },
   "file_extension": ".py",
   "mimetype": "text/x-python",
   "name": "python",
   "nbconvert_exporter": "python",
   "pygments_lexer": "ipython3",
   "version": "3.8.8"
  }
 },
 "nbformat": 4,
 "nbformat_minor": 5
}
