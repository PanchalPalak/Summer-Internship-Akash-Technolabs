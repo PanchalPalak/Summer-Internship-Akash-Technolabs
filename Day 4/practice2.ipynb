{
 "cells": [
  {
   "cell_type": "markdown",
   "id": "8634bbfa",
   "metadata": {},
   "source": [
    "## even or odd:"
   ]
  },
  {
   "cell_type": "code",
   "execution_count": 2,
   "id": "4676b1d2",
   "metadata": {},
   "outputs": [
    {
     "name": "stdout",
     "output_type": "stream",
     "text": [
      "enter number:15\n",
      "number is odd\n"
     ]
    }
   ],
   "source": [
    "n=int(input('enter number:'))\n",
    "if(n%2==0):\n",
    "    print('number is even')\n",
    "else:\n",
    "    print('number is odd')"
   ]
  },
  {
   "cell_type": "markdown",
   "id": "a58ed2cc",
   "metadata": {},
   "source": [
    "## leap or not:"
   ]
  },
  {
   "cell_type": "code",
   "execution_count": 6,
   "id": "214d4f2c",
   "metadata": {},
   "outputs": [
    {
     "name": "stdout",
     "output_type": "stream",
     "text": [
      "enter a year:2022\n",
      "year is not leap year.\n"
     ]
    }
   ],
   "source": [
    "y=int(input('enter a year:'))\n",
    "if(y%4==0):\n",
    "    print('year is leap.')\n",
    "else:\n",
    "    print('year is not leap year.')"
   ]
  },
  {
   "cell_type": "markdown",
   "id": "0e975f0a",
   "metadata": {},
   "source": [
    "## 7. zero,positive or negetive:"
   ]
  },
  {
   "cell_type": "code",
   "execution_count": 9,
   "id": "b2d3f296",
   "metadata": {},
   "outputs": [
    {
     "name": "stdout",
     "output_type": "stream",
     "text": [
      "enter a number:-45\n",
      "number is negative.\n"
     ]
    }
   ],
   "source": [
    "n=int(input('enter a number:'))\n",
    "if(n==0):\n",
    "    print('number is zero.')\n",
    "elif(n>0):\n",
    "    print('number is positive.')\n",
    "else:\n",
    "    print('number is negative.')"
   ]
  },
  {
   "cell_type": "markdown",
   "id": "cf18054c",
   "metadata": {},
   "source": [
    "## 8. greatest number:"
   ]
  },
  {
   "cell_type": "code",
   "execution_count": 2,
   "id": "67bdf842",
   "metadata": {},
   "outputs": [
    {
     "name": "stdout",
     "output_type": "stream",
     "text": [
      "enter first number:2\n",
      "enter second number:54\n",
      "b is greater than a.\n"
     ]
    }
   ],
   "source": [
    "a=input('enter first number:')\n",
    "b=input('enter second number:')\n",
    "if(a==b):\n",
    "    print('number are same.')\n",
    "elif(a>b):\n",
    "    print('a is greater than b.')\n",
    "else:\n",
    "    print('b is greater than a.')"
   ]
  },
  {
   "cell_type": "code",
   "execution_count": null,
   "id": "cd7330e7",
   "metadata": {},
   "outputs": [],
   "source": []
  }
 ],
 "metadata": {
  "kernelspec": {
   "display_name": "Python 3",
   "language": "python",
   "name": "python3"
  },
  "language_info": {
   "codemirror_mode": {
    "name": "ipython",
    "version": 3
   },
   "file_extension": ".py",
   "mimetype": "text/x-python",
   "name": "python",
   "nbconvert_exporter": "python",
   "pygments_lexer": "ipython3",
   "version": "3.8.8"
  }
 },
 "nbformat": 4,
 "nbformat_minor": 5
}
