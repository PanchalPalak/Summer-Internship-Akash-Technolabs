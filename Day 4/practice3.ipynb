{
 "cells": [
  {
   "cell_type": "markdown",
   "id": "44c9fc1e",
   "metadata": {},
   "source": [
    "## 9.factorial :"
   ]
  },
  {
   "cell_type": "code",
   "execution_count": 5,
   "id": "793297ee",
   "metadata": {},
   "outputs": [
    {
     "name": "stdout",
     "output_type": "stream",
     "text": [
      "enter the number:5\n",
      "120\n"
     ]
    }
   ],
   "source": [
    "n=int(input('enter the number:'))\n",
    "fact=1\n",
    "if(n==0):\n",
    "    print('factorial is 1.')\n",
    "elif(n<0):\n",
    "    print('negative number factorial does not exist.')\n",
    "else:\n",
    "    for i in range(1,n+1):\n",
    "        fact=fact*i\n",
    "print(fact)    "
   ]
  },
  {
   "cell_type": "markdown",
   "id": "cc6ab686",
   "metadata": {},
   "source": [
    "## 10. swapping :"
   ]
  },
  {
   "cell_type": "code",
   "execution_count": 7,
   "id": "1dee0f6f",
   "metadata": {},
   "outputs": [
    {
     "name": "stdout",
     "output_type": "stream",
     "text": [
      "enter num a: 15\n",
      "enter num b: 24\n",
      "a is  24\n",
      "b is  15\n"
     ]
    }
   ],
   "source": [
    "a=input('enter num a: ')\n",
    "b=input('enter num b: ')\n",
    "temp=a\n",
    "a=b\n",
    "b=temp\n",
    "print('a is ',a)\n",
    "print('b is ',b)"
   ]
  },
  {
   "cell_type": "markdown",
   "id": "102d7ad9",
   "metadata": {},
   "source": [
    "## 11. smallest num:"
   ]
  },
  {
   "cell_type": "code",
   "execution_count": 10,
   "id": "65908d8a",
   "metadata": {},
   "outputs": [
    {
     "name": "stdout",
     "output_type": "stream",
     "text": [
      "num 1: -10\n",
      "num 2: -11\n",
      "n2 is smallest.\n"
     ]
    }
   ],
   "source": [
    "n1=int(input('num 1: '))\n",
    "n2=int(input('num 2: '))\n",
    "if(n1==n2):\n",
    "    print('both are same.')\n",
    "elif(n1<n2):\n",
    "    print('n1 is smallest.')\n",
    "else:\n",
    "    print('n2 is smallest.')"
   ]
  },
  {
   "cell_type": "markdown",
   "id": "0888ccaf",
   "metadata": {},
   "source": [
    "## 12.less than 100 or not,if less than then check odd or even:"
   ]
  },
  {
   "cell_type": "code",
   "execution_count": 11,
   "id": "7ea306f2",
   "metadata": {},
   "outputs": [
    {
     "name": "stdout",
     "output_type": "stream",
     "text": [
      "enter num a: 41\n"
     ]
    },
    {
     "ename": "TypeError",
     "evalue": "'>' not supported between instances of 'str' and 'int'",
     "output_type": "error",
     "traceback": [
      "\u001b[1;31m---------------------------------------------------------------------------\u001b[0m",
      "\u001b[1;31mTypeError\u001b[0m                                 Traceback (most recent call last)",
      "\u001b[1;32m<ipython-input-11-da563a1297aa>\u001b[0m in \u001b[0;36m<module>\u001b[1;34m\u001b[0m\n\u001b[0;32m      1\u001b[0m \u001b[0ma\u001b[0m\u001b[1;33m=\u001b[0m\u001b[0minput\u001b[0m\u001b[1;33m(\u001b[0m\u001b[1;34m'enter num a: '\u001b[0m\u001b[1;33m)\u001b[0m\u001b[1;33m\u001b[0m\u001b[1;33m\u001b[0m\u001b[0m\n\u001b[1;32m----> 2\u001b[1;33m \u001b[1;32mif\u001b[0m\u001b[1;33m(\u001b[0m\u001b[0ma\u001b[0m\u001b[1;33m>\u001b[0m\u001b[1;36m100\u001b[0m\u001b[1;33m)\u001b[0m\u001b[1;33m:\u001b[0m\u001b[1;33m\u001b[0m\u001b[1;33m\u001b[0m\u001b[0m\n\u001b[0m\u001b[0;32m      3\u001b[0m     \u001b[0mprint\u001b[0m\u001b[1;33m(\u001b[0m\u001b[1;34m'number is more than 100.'\u001b[0m\u001b[1;33m)\u001b[0m\u001b[1;33m\u001b[0m\u001b[1;33m\u001b[0m\u001b[0m\n\u001b[0;32m      4\u001b[0m \u001b[1;32melse\u001b[0m\u001b[1;33m:\u001b[0m\u001b[1;33m\u001b[0m\u001b[1;33m\u001b[0m\u001b[0m\n\u001b[0;32m      5\u001b[0m     \u001b[1;32mif\u001b[0m\u001b[1;33m(\u001b[0m\u001b[0ma\u001b[0m\u001b[1;33m%\u001b[0m\u001b[1;36m2\u001b[0m\u001b[1;33m==\u001b[0m\u001b[1;36m0\u001b[0m\u001b[1;33m)\u001b[0m\u001b[1;33m:\u001b[0m\u001b[1;33m\u001b[0m\u001b[1;33m\u001b[0m\u001b[0m\n",
      "\u001b[1;31mTypeError\u001b[0m: '>' not supported between instances of 'str' and 'int'"
     ]
    }
   ],
   "source": [
    "a=in(input('enter num a: ')\n",
    "if(a>100):\n",
    "    print('number is more than 100.')\n",
    "else:\n",
    "    if(a%2==0):\n",
    "        print('number is less than 100 & even number.')\n",
    "    else:\n",
    "        print('number is less than 100 & odd number.')"
   ]
  },
  {
   "cell_type": "code",
   "execution_count": null,
   "id": "be460b66",
   "metadata": {},
   "outputs": [],
   "source": []
  }
 ],
 "metadata": {
  "kernelspec": {
   "display_name": "Python 3",
   "language": "python",
   "name": "python3"
  },
  "language_info": {
   "codemirror_mode": {
    "name": "ipython",
    "version": 3
   },
   "file_extension": ".py",
   "mimetype": "text/x-python",
   "name": "python",
   "nbconvert_exporter": "python",
   "pygments_lexer": "ipython3",
   "version": "3.8.8"
  }
 },
 "nbformat": 4,
 "nbformat_minor": 5
}
