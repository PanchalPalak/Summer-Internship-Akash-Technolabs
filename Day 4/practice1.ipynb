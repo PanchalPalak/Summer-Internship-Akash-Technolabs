{
 "cells": [
  {
   "cell_type": "markdown",
   "id": "5ac98bcb",
   "metadata": {},
   "source": [
    "## 1.area of rectangle:\n"
   ]
  },
  {
   "cell_type": "code",
   "execution_count": 1,
   "id": "2bf732f6",
   "metadata": {},
   "outputs": [
    {
     "name": "stdout",
     "output_type": "stream",
     "text": [
      "enter value of length:10\n",
      "enter value of width:15\n",
      "area of rectangle:  150\n"
     ]
    }
   ],
   "source": [
    "l=int(input('enter value of length:'))\n",
    "w=int(input('enter value of width:'))\n",
    "area=l*w\n",
    "print('area of rectangle: ',area)"
   ]
  },
  {
   "cell_type": "markdown",
   "id": "38ac2cce",
   "metadata": {},
   "source": [
    "## 2. area of circle:"
   ]
  },
  {
   "cell_type": "code",
   "execution_count": 5,
   "id": "210ffee2",
   "metadata": {},
   "outputs": [
    {
     "name": "stdout",
     "output_type": "stream",
     "text": [
      "enter value of radius:10\n",
      "314.1592653589793\n"
     ]
    }
   ],
   "source": [
    "import math\n",
    "r=int(input('enter value of radius:'))\n",
    "area=(math.pi)*r*r\n",
    "print(area)"
   ]
  },
  {
   "cell_type": "markdown",
   "id": "e55a31b4",
   "metadata": {},
   "source": [
    "## 3. area of squre:"
   ]
  },
  {
   "cell_type": "code",
   "execution_count": 6,
   "id": "30fbf9b2",
   "metadata": {},
   "outputs": [
    {
     "name": "stdout",
     "output_type": "stream",
     "text": [
      "enter value of side:20\n",
      "400\n"
     ]
    }
   ],
   "source": [
    "s=int(input('enter value of side:'))\n",
    "area=s*s\n",
    "print(area)"
   ]
  },
  {
   "cell_type": "markdown",
   "id": "e769e578",
   "metadata": {},
   "source": [
    "## 4. average of five num:"
   ]
  },
  {
   "cell_type": "code",
   "execution_count": 2,
   "id": "60611e90",
   "metadata": {},
   "outputs": [
    {
     "name": "stdout",
     "output_type": "stream",
     "text": [
      "enter num1:10\n",
      "enter num2:20\n",
      "enter num3:30\n",
      "enter num4:40\n",
      "enter num5:50\n",
      "30.0\n"
     ]
    }
   ],
   "source": [
    "num1=int(input('enter num1:'))\n",
    "num2=int(input('enter num2:'))\n",
    "num3=int(input('enter num3:'))\n",
    "num4=int(input('enter num4:'))\n",
    "num5=int(input('enter num5:'))\n",
    "avg=(num1+num2+num3+num4+num5)/5\n",
    "print(avg)"
   ]
  }
 ],
 "metadata": {
  "kernelspec": {
   "display_name": "Python 3",
   "language": "python",
   "name": "python3"
  },
  "language_info": {
   "codemirror_mode": {
    "name": "ipython",
    "version": 3
   },
   "file_extension": ".py",
   "mimetype": "text/x-python",
   "name": "python",
   "nbconvert_exporter": "python",
   "pygments_lexer": "ipython3",
   "version": "3.8.8"
  }
 },
 "nbformat": 4,
 "nbformat_minor": 5
}
