{
 "cells": [
  {
   "cell_type": "markdown",
   "id": "dcc08f2b",
   "metadata": {},
   "source": [
    "## break statement:"
   ]
  },
  {
   "cell_type": "code",
   "execution_count": 1,
   "id": "b963c747",
   "metadata": {},
   "outputs": [
    {
     "name": "stdout",
     "output_type": "stream",
     "text": [
      "10\n",
      "8\n",
      "6\n",
      "4\n"
     ]
    }
   ],
   "source": [
    "i=10\n",
    "while(i>0):\n",
    "    print(i)\n",
    "    i-=2\n",
    "    if (i==2):\n",
    "        break"
   ]
  },
  {
   "cell_type": "markdown",
   "id": "efb34679",
   "metadata": {},
   "source": [
    "## continue statement:\n"
   ]
  },
  {
   "cell_type": "code",
   "execution_count": 8,
   "id": "bad5f072",
   "metadata": {},
   "outputs": [
    {
     "name": "stdout",
     "output_type": "stream",
     "text": [
      "3\n",
      "6\n",
      "9\n",
      "12\n",
      "18\n",
      "21\n",
      "24\n"
     ]
    }
   ],
   "source": [
    "\n",
    "for i in range(0,27,3):\n",
    "    if(i%5==0):\n",
    "        continue\n",
    "    \n",
    "    print(i)   "
   ]
  },
  {
   "cell_type": "code",
   "execution_count": null,
   "id": "9f36da8a",
   "metadata": {},
   "outputs": [],
   "source": []
  }
 ],
 "metadata": {
  "kernelspec": {
   "display_name": "Python 3",
   "language": "python",
   "name": "python3"
  },
  "language_info": {
   "codemirror_mode": {
    "name": "ipython",
    "version": 3
   },
   "file_extension": ".py",
   "mimetype": "text/x-python",
   "name": "python",
   "nbconvert_exporter": "python",
   "pygments_lexer": "ipython3",
   "version": "3.8.8"
  }
 },
 "nbformat": 4,
 "nbformat_minor": 5
}
