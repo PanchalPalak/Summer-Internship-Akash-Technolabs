{
 "cells": [
  {
   "cell_type": "code",
   "execution_count": 2,
   "id": "cc0eb63f",
   "metadata": {},
   "outputs": [
    {
     "name": "stdout",
     "output_type": "stream",
     "text": [
      "hello world!!\n"
     ]
    }
   ],
   "source": [
    "def fun():\n",
    "    print('hello world!!')\n",
    "fun()    "
   ]
  },
  {
   "cell_type": "markdown",
   "id": "594e3522",
   "metadata": {},
   "source": [
    "## with return fun:\n"
   ]
  },
  {
   "cell_type": "code",
   "execution_count": 4,
   "id": "fc447d88",
   "metadata": {},
   "outputs": [
    {
     "name": "stdout",
     "output_type": "stream",
     "text": [
      "blue\n"
     ]
    }
   ],
   "source": [
    "def fun(color):\n",
    "    return color\n",
    "color=fun('blue')\n",
    "print(color)"
   ]
  },
  {
   "cell_type": "markdown",
   "id": "6108366c",
   "metadata": {},
   "source": [
    "## with argument:"
   ]
  },
  {
   "cell_type": "code",
   "execution_count": 6,
   "id": "c08a8da9",
   "metadata": {},
   "outputs": [
    {
     "name": "stdout",
     "output_type": "stream",
     "text": [
      "your name is: pal\n"
     ]
    }
   ],
   "source": [
    "def fun(name):\n",
    "    print('your name is:',name)\n",
    "fun('pal')    "
   ]
  },
  {
   "cell_type": "markdown",
   "id": "866790dd",
   "metadata": {},
   "source": [
    "## default argument:\n"
   ]
  },
  {
   "cell_type": "code",
   "execution_count": 7,
   "id": "b8472cc3",
   "metadata": {},
   "outputs": [
    {
     "name": "stdout",
     "output_type": "stream",
     "text": [
      "30\n"
     ]
    }
   ],
   "source": [
    "def add(a,b):\n",
    "    print(a+b)\n",
    "add(15,15)    "
   ]
  },
  {
   "cell_type": "markdown",
   "id": "d50c4dad",
   "metadata": {},
   "source": [
    "## keyword argument:\n"
   ]
  },
  {
   "cell_type": "code",
   "execution_count": 8,
   "id": "b6c9d9d4",
   "metadata": {},
   "outputs": [
    {
     "data": {
      "text/plain": [
       "24"
      ]
     },
     "execution_count": 8,
     "metadata": {},
     "output_type": "execute_result"
    }
   ],
   "source": [
    "def mul(a,b):\n",
    "    return a*b\n",
    "mul(b=2,a=12)"
   ]
  },
  {
   "cell_type": "markdown",
   "id": "d8629002",
   "metadata": {},
   "source": [
    "## variable-length:"
   ]
  },
  {
   "cell_type": "code",
   "execution_count": 9,
   "id": "d717bcb8",
   "metadata": {},
   "outputs": [
    {
     "name": "stdout",
     "output_type": "stream",
     "text": [
      "sumetion is: 49\n",
      "sumetion is: 97\n"
     ]
    }
   ],
   "source": [
    "def sum(*n):\n",
    "    sum=0\n",
    "    for i in n:\n",
    "        sum=sum+i\n",
    "    print('sumetion is:',sum)\n",
    "sum(14,35)\n",
    "sum(20,35,18,24)"
   ]
  },
  {
   "cell_type": "code",
   "execution_count": null,
   "id": "de7468ad",
   "metadata": {},
   "outputs": [],
   "source": []
  }
 ],
 "metadata": {
  "kernelspec": {
   "display_name": "Python 3",
   "language": "python",
   "name": "python3"
  },
  "language_info": {
   "codemirror_mode": {
    "name": "ipython",
    "version": 3
   },
   "file_extension": ".py",
   "mimetype": "text/x-python",
   "name": "python",
   "nbconvert_exporter": "python",
   "pygments_lexer": "ipython3",
   "version": "3.8.8"
  }
 },
 "nbformat": 4,
 "nbformat_minor": 5
}
